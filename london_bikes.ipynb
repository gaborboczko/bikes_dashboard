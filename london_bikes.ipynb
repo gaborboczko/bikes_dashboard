{
 "cells": [
  {
   "cell_type": "code",
   "execution_count": null,
   "id": "initial_id",
   "metadata": {
    "collapsed": true
   },
   "outputs": [],
   "source": [
    "!pip install pandas\n",
    "!pip install zipfile\n",
    "!pip install kaggle"
   ]
  },
  {
   "cell_type": "code",
   "outputs": [],
   "source": [
    "import pandas as pd\n",
    "import zipfile\n",
    "import kaggle"
   ],
   "metadata": {
    "collapsed": false
   },
   "id": "1e7227a2aec6951c",
   "execution_count": null
  },
  {
   "cell_type": "code",
   "outputs": [],
   "source": [
    "!kaggle datasets download -d hmavrodiev/london-bike-sharing-dataset"
   ],
   "metadata": {
    "collapsed": false
   },
   "id": "dd51be76de46d113",
   "execution_count": null
  },
  {
   "cell_type": "code",
   "outputs": [],
   "source": [
    "zipfile_name = 'london-bike-sharing-dataset.zip'\n",
    "with zipfile.ZipFile(zipfile_name, 'r') as file:\n",
    "    file.extractall()"
   ],
   "metadata": {
    "collapsed": false
   },
   "id": "b7277572f1d1c757",
   "execution_count": null
  },
  {
   "cell_type": "code",
   "outputs": [],
   "source": [
    "bikes = pd.read_csv(\"london_merged.csv\")"
   ],
   "metadata": {
    "collapsed": false,
    "ExecuteTime": {
     "end_time": "2024-07-31T08:28:23.387919Z",
     "start_time": "2024-07-31T08:28:23.369509Z"
    }
   },
   "id": "6f69c3233248e2d0",
   "execution_count": 19
  },
  {
   "cell_type": "code",
   "outputs": [
    {
     "name": "stdout",
     "output_type": "stream",
     "text": [
      "<class 'pandas.core.frame.DataFrame'>\n",
      "RangeIndex: 17414 entries, 0 to 17413\n",
      "Data columns (total 10 columns):\n",
      " #   Column        Non-Null Count  Dtype  \n",
      "---  ------        --------------  -----  \n",
      " 0   timestamp     17414 non-null  object \n",
      " 1   cnt           17414 non-null  int64  \n",
      " 2   t1            17414 non-null  float64\n",
      " 3   t2            17414 non-null  float64\n",
      " 4   hum           17414 non-null  float64\n",
      " 5   wind_speed    17414 non-null  float64\n",
      " 6   weather_code  17414 non-null  float64\n",
      " 7   is_holiday    17414 non-null  float64\n",
      " 8   is_weekend    17414 non-null  float64\n",
      " 9   season        17414 non-null  float64\n",
      "dtypes: float64(8), int64(1), object(1)\n",
      "memory usage: 1.3+ MB\n"
     ]
    },
    {
     "data": {
      "text/plain": "(17414, 10)"
     },
     "execution_count": 20,
     "metadata": {},
     "output_type": "execute_result"
    }
   ],
   "source": [
    "bikes.info()\n",
    "bikes.shape"
   ],
   "metadata": {
    "collapsed": false,
    "ExecuteTime": {
     "end_time": "2024-07-31T08:28:24.215665Z",
     "start_time": "2024-07-31T08:28:24.207146Z"
    }
   },
   "id": "1d2e48e27b2d7262",
   "execution_count": 20
  },
  {
   "cell_type": "code",
   "outputs": [
    {
     "data": {
      "text/plain": "                 timestamp   cnt   t1   t2    hum  wind_speed  weather_code  \\\n0      2015-01-04 00:00:00   182  3.0  2.0   93.0         6.0           3.0   \n1      2015-01-04 01:00:00   138  3.0  2.5   93.0         5.0           1.0   \n2      2015-01-04 02:00:00   134  2.5  2.5   96.5         0.0           1.0   \n3      2015-01-04 03:00:00    72  2.0  2.0  100.0         0.0           1.0   \n4      2015-01-04 04:00:00    47  2.0  0.0   93.0         6.5           1.0   \n...                    ...   ...  ...  ...    ...         ...           ...   \n17409  2017-01-03 19:00:00  1042  5.0  1.0   81.0        19.0           3.0   \n17410  2017-01-03 20:00:00   541  5.0  1.0   81.0        21.0           4.0   \n17411  2017-01-03 21:00:00   337  5.5  1.5   78.5        24.0           4.0   \n17412  2017-01-03 22:00:00   224  5.5  1.5   76.0        23.0           4.0   \n17413  2017-01-03 23:00:00   139  5.0  1.0   76.0        22.0           2.0   \n\n       is_holiday  is_weekend  season  \n0             0.0         1.0     3.0  \n1             0.0         1.0     3.0  \n2             0.0         1.0     3.0  \n3             0.0         1.0     3.0  \n4             0.0         1.0     3.0  \n...           ...         ...     ...  \n17409         0.0         0.0     3.0  \n17410         0.0         0.0     3.0  \n17411         0.0         0.0     3.0  \n17412         0.0         0.0     3.0  \n17413         0.0         0.0     3.0  \n\n[17414 rows x 10 columns]",
      "text/html": "<div>\n<style scoped>\n    .dataframe tbody tr th:only-of-type {\n        vertical-align: middle;\n    }\n\n    .dataframe tbody tr th {\n        vertical-align: top;\n    }\n\n    .dataframe thead th {\n        text-align: right;\n    }\n</style>\n<table border=\"1\" class=\"dataframe\">\n  <thead>\n    <tr style=\"text-align: right;\">\n      <th></th>\n      <th>timestamp</th>\n      <th>cnt</th>\n      <th>t1</th>\n      <th>t2</th>\n      <th>hum</th>\n      <th>wind_speed</th>\n      <th>weather_code</th>\n      <th>is_holiday</th>\n      <th>is_weekend</th>\n      <th>season</th>\n    </tr>\n  </thead>\n  <tbody>\n    <tr>\n      <th>0</th>\n      <td>2015-01-04 00:00:00</td>\n      <td>182</td>\n      <td>3.0</td>\n      <td>2.0</td>\n      <td>93.0</td>\n      <td>6.0</td>\n      <td>3.0</td>\n      <td>0.0</td>\n      <td>1.0</td>\n      <td>3.0</td>\n    </tr>\n    <tr>\n      <th>1</th>\n      <td>2015-01-04 01:00:00</td>\n      <td>138</td>\n      <td>3.0</td>\n      <td>2.5</td>\n      <td>93.0</td>\n      <td>5.0</td>\n      <td>1.0</td>\n      <td>0.0</td>\n      <td>1.0</td>\n      <td>3.0</td>\n    </tr>\n    <tr>\n      <th>2</th>\n      <td>2015-01-04 02:00:00</td>\n      <td>134</td>\n      <td>2.5</td>\n      <td>2.5</td>\n      <td>96.5</td>\n      <td>0.0</td>\n      <td>1.0</td>\n      <td>0.0</td>\n      <td>1.0</td>\n      <td>3.0</td>\n    </tr>\n    <tr>\n      <th>3</th>\n      <td>2015-01-04 03:00:00</td>\n      <td>72</td>\n      <td>2.0</td>\n      <td>2.0</td>\n      <td>100.0</td>\n      <td>0.0</td>\n      <td>1.0</td>\n      <td>0.0</td>\n      <td>1.0</td>\n      <td>3.0</td>\n    </tr>\n    <tr>\n      <th>4</th>\n      <td>2015-01-04 04:00:00</td>\n      <td>47</td>\n      <td>2.0</td>\n      <td>0.0</td>\n      <td>93.0</td>\n      <td>6.5</td>\n      <td>1.0</td>\n      <td>0.0</td>\n      <td>1.0</td>\n      <td>3.0</td>\n    </tr>\n    <tr>\n      <th>...</th>\n      <td>...</td>\n      <td>...</td>\n      <td>...</td>\n      <td>...</td>\n      <td>...</td>\n      <td>...</td>\n      <td>...</td>\n      <td>...</td>\n      <td>...</td>\n      <td>...</td>\n    </tr>\n    <tr>\n      <th>17409</th>\n      <td>2017-01-03 19:00:00</td>\n      <td>1042</td>\n      <td>5.0</td>\n      <td>1.0</td>\n      <td>81.0</td>\n      <td>19.0</td>\n      <td>3.0</td>\n      <td>0.0</td>\n      <td>0.0</td>\n      <td>3.0</td>\n    </tr>\n    <tr>\n      <th>17410</th>\n      <td>2017-01-03 20:00:00</td>\n      <td>541</td>\n      <td>5.0</td>\n      <td>1.0</td>\n      <td>81.0</td>\n      <td>21.0</td>\n      <td>4.0</td>\n      <td>0.0</td>\n      <td>0.0</td>\n      <td>3.0</td>\n    </tr>\n    <tr>\n      <th>17411</th>\n      <td>2017-01-03 21:00:00</td>\n      <td>337</td>\n      <td>5.5</td>\n      <td>1.5</td>\n      <td>78.5</td>\n      <td>24.0</td>\n      <td>4.0</td>\n      <td>0.0</td>\n      <td>0.0</td>\n      <td>3.0</td>\n    </tr>\n    <tr>\n      <th>17412</th>\n      <td>2017-01-03 22:00:00</td>\n      <td>224</td>\n      <td>5.5</td>\n      <td>1.5</td>\n      <td>76.0</td>\n      <td>23.0</td>\n      <td>4.0</td>\n      <td>0.0</td>\n      <td>0.0</td>\n      <td>3.0</td>\n    </tr>\n    <tr>\n      <th>17413</th>\n      <td>2017-01-03 23:00:00</td>\n      <td>139</td>\n      <td>5.0</td>\n      <td>1.0</td>\n      <td>76.0</td>\n      <td>22.0</td>\n      <td>2.0</td>\n      <td>0.0</td>\n      <td>0.0</td>\n      <td>3.0</td>\n    </tr>\n  </tbody>\n</table>\n<p>17414 rows × 10 columns</p>\n</div>"
     },
     "execution_count": 21,
     "metadata": {},
     "output_type": "execute_result"
    }
   ],
   "source": [
    "bikes"
   ],
   "metadata": {
    "collapsed": false,
    "ExecuteTime": {
     "end_time": "2024-07-31T08:28:28.465435Z",
     "start_time": "2024-07-31T08:28:28.455753Z"
    }
   },
   "id": "dff052f9f6f63e69",
   "execution_count": 21
  },
  {
   "cell_type": "code",
   "outputs": [
    {
     "data": {
      "text/plain": "weather_code\n1.0     6150\n2.0     4034\n3.0     3551\n7.0     2141\n4.0     1464\n26.0      60\n10.0      14\nName: count, dtype: int64"
     },
     "execution_count": 22,
     "metadata": {},
     "output_type": "execute_result"
    }
   ],
   "source": [
    "bikes.weather_code.value_counts()"
   ],
   "metadata": {
    "collapsed": false,
    "ExecuteTime": {
     "end_time": "2024-07-31T08:28:35.257774Z",
     "start_time": "2024-07-31T08:28:35.253975Z"
    }
   },
   "id": "525468805ae76697",
   "execution_count": 22
  },
  {
   "cell_type": "code",
   "outputs": [
    {
     "data": {
      "text/plain": "season\n0.0    4394\n1.0    4387\n3.0    4330\n2.0    4303\nName: count, dtype: int64"
     },
     "execution_count": 23,
     "metadata": {},
     "output_type": "execute_result"
    }
   ],
   "source": [
    "bikes.season.value_counts()"
   ],
   "metadata": {
    "collapsed": false,
    "ExecuteTime": {
     "end_time": "2024-07-31T08:28:39.191328Z",
     "start_time": "2024-07-31T08:28:39.186961Z"
    }
   },
   "id": "af8400ebdaa3e2ac",
   "execution_count": 23
  },
  {
   "cell_type": "code",
   "outputs": [],
   "source": [
    "new_col_names_dict = {\n",
    "    'timestamp':'time',\n",
    "    'cnt':'count',\n",
    "    't1':'temp_real_c',\n",
    "    't2':'temp_feels_like_c',\n",
    "    'hum':'humidity_percent',\n",
    "    'wind_speed':'wind_speed_kph',\n",
    "    'weather_code':'weather',\n",
    "    'is_holiday':'is_holiday',\n",
    "    'is_weekend':'is_weekend',\n",
    "    'season':'season'\n",
    "}\n",
    "\n",
    "bikes.rename(new_col_names_dict, axis=1, inplace=True)"
   ],
   "metadata": {
    "collapsed": false,
    "ExecuteTime": {
     "end_time": "2024-07-31T08:28:42.340866Z",
     "start_time": "2024-07-31T08:28:42.337303Z"
    }
   },
   "id": "9b9c1dc0528beb74",
   "execution_count": 24
  },
  {
   "cell_type": "code",
   "outputs": [],
   "source": [
    "bikes.humidity_percent = bikes.humidity_percent / 100"
   ],
   "metadata": {
    "collapsed": false,
    "ExecuteTime": {
     "end_time": "2024-07-31T08:28:47.110629Z",
     "start_time": "2024-07-31T08:28:47.105319Z"
    }
   },
   "id": "879ef03c9bb1522a",
   "execution_count": 25
  },
  {
   "cell_type": "code",
   "outputs": [],
   "source": [
    "season_dict = {\n",
    "    '0.0':'Spring',\n",
    "    '1.0':'Summer',\n",
    "    '2.0':'Autumn',\n",
    "    '3.0':'Winter'\n",
    "}\n",
    "\n",
    "weather_dict = {\n",
    "    '1.0':'Clear',\n",
    "    '2.0':'Scattered clouds',\n",
    "    '3.0':'Broken clouds',\n",
    "    '4.0':'Cloudy',\n",
    "    '7.0':'Rain',\n",
    "    '10.0':'Rain with thunderstorm',\n",
    "    '26.0':'Snowfall'\n",
    "}\n",
    "\n",
    "bikes.season = bikes.season.astype('str')\n",
    "bikes.season = bikes.season.map(season_dict)\n",
    "\n",
    "bikes.weather = bikes.weather.astype('str')\n",
    "bikes.weather = bikes.weather.map(weather_dict)"
   ],
   "metadata": {
    "collapsed": false,
    "ExecuteTime": {
     "end_time": "2024-07-31T08:28:48.105107Z",
     "start_time": "2024-07-31T08:28:48.101096Z"
    }
   },
   "id": "f800cb962c221572",
   "execution_count": 26
  },
  {
   "cell_type": "code",
   "outputs": [
    {
     "data": {
      "text/plain": "                  time  count  temp_real_c  temp_feels_like_c  \\\n0  2015-01-04 00:00:00    182          3.0                2.0   \n1  2015-01-04 01:00:00    138          3.0                2.5   \n2  2015-01-04 02:00:00    134          2.5                2.5   \n3  2015-01-04 03:00:00     72          2.0                2.0   \n4  2015-01-04 04:00:00     47          2.0                0.0   \n\n   humidity_percent  wind_speed_kph        weather  is_holiday  is_weekend  \\\n0             0.930             6.0  Broken clouds         0.0         1.0   \n1             0.930             5.0          Clear         0.0         1.0   \n2             0.965             0.0          Clear         0.0         1.0   \n3             1.000             0.0          Clear         0.0         1.0   \n4             0.930             6.5          Clear         0.0         1.0   \n\n   season  \n0  Winter  \n1  Winter  \n2  Winter  \n3  Winter  \n4  Winter  ",
      "text/html": "<div>\n<style scoped>\n    .dataframe tbody tr th:only-of-type {\n        vertical-align: middle;\n    }\n\n    .dataframe tbody tr th {\n        vertical-align: top;\n    }\n\n    .dataframe thead th {\n        text-align: right;\n    }\n</style>\n<table border=\"1\" class=\"dataframe\">\n  <thead>\n    <tr style=\"text-align: right;\">\n      <th></th>\n      <th>time</th>\n      <th>count</th>\n      <th>temp_real_c</th>\n      <th>temp_feels_like_c</th>\n      <th>humidity_percent</th>\n      <th>wind_speed_kph</th>\n      <th>weather</th>\n      <th>is_holiday</th>\n      <th>is_weekend</th>\n      <th>season</th>\n    </tr>\n  </thead>\n  <tbody>\n    <tr>\n      <th>0</th>\n      <td>2015-01-04 00:00:00</td>\n      <td>182</td>\n      <td>3.0</td>\n      <td>2.0</td>\n      <td>0.930</td>\n      <td>6.0</td>\n      <td>Broken clouds</td>\n      <td>0.0</td>\n      <td>1.0</td>\n      <td>Winter</td>\n    </tr>\n    <tr>\n      <th>1</th>\n      <td>2015-01-04 01:00:00</td>\n      <td>138</td>\n      <td>3.0</td>\n      <td>2.5</td>\n      <td>0.930</td>\n      <td>5.0</td>\n      <td>Clear</td>\n      <td>0.0</td>\n      <td>1.0</td>\n      <td>Winter</td>\n    </tr>\n    <tr>\n      <th>2</th>\n      <td>2015-01-04 02:00:00</td>\n      <td>134</td>\n      <td>2.5</td>\n      <td>2.5</td>\n      <td>0.965</td>\n      <td>0.0</td>\n      <td>Clear</td>\n      <td>0.0</td>\n      <td>1.0</td>\n      <td>Winter</td>\n    </tr>\n    <tr>\n      <th>3</th>\n      <td>2015-01-04 03:00:00</td>\n      <td>72</td>\n      <td>2.0</td>\n      <td>2.0</td>\n      <td>1.000</td>\n      <td>0.0</td>\n      <td>Clear</td>\n      <td>0.0</td>\n      <td>1.0</td>\n      <td>Winter</td>\n    </tr>\n    <tr>\n      <th>4</th>\n      <td>2015-01-04 04:00:00</td>\n      <td>47</td>\n      <td>2.0</td>\n      <td>0.0</td>\n      <td>0.930</td>\n      <td>6.5</td>\n      <td>Clear</td>\n      <td>0.0</td>\n      <td>1.0</td>\n      <td>Winter</td>\n    </tr>\n  </tbody>\n</table>\n</div>"
     },
     "execution_count": 27,
     "metadata": {},
     "output_type": "execute_result"
    }
   ],
   "source": [
    "bikes.head()"
   ],
   "metadata": {
    "collapsed": false,
    "ExecuteTime": {
     "end_time": "2024-07-31T08:28:50.186983Z",
     "start_time": "2024-07-31T08:28:50.180475Z"
    }
   },
   "id": "dfd4b6d2916ffe47",
   "execution_count": 27
  },
  {
   "cell_type": "code",
   "outputs": [],
   "source": [
    "bikes.to_excel('london_bikes_final.xlsx', sheet_name='Data')"
   ],
   "metadata": {
    "collapsed": false,
    "ExecuteTime": {
     "end_time": "2024-07-31T08:30:54.665175Z",
     "start_time": "2024-07-31T08:30:52.970591Z"
    }
   },
   "id": "62745611f2232c15",
   "execution_count": 30
  }
 ],
 "metadata": {
  "kernelspec": {
   "display_name": "Python 3",
   "language": "python",
   "name": "python3"
  },
  "language_info": {
   "codemirror_mode": {
    "name": "ipython",
    "version": 2
   },
   "file_extension": ".py",
   "mimetype": "text/x-python",
   "name": "python",
   "nbconvert_exporter": "python",
   "pygments_lexer": "ipython2",
   "version": "2.7.6"
  }
 },
 "nbformat": 4,
 "nbformat_minor": 5
}
